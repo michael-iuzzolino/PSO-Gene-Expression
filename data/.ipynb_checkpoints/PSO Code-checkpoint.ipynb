{
 "cells": [
  {
   "cell_type": "markdown",
   "metadata": {},
   "source": [
    "# PSO\n",
    "https://nathanrooy.github.io/posts/2016-08-17/simple-particle-swarm-optimization-with-python/"
   ]
  },
  {
   "cell_type": "code",
   "execution_count": 90,
   "metadata": {},
   "outputs": [
    {
     "name": "stdout",
     "output_type": "stream",
     "text": [
      "GLOBAL -- Best Position: [2.172192041035132e-06, -1.3286464029093942e-05], Best Error: 1.8124854466e-10\n"
     ]
    }
   ],
   "source": [
    "import numpy as np\n",
    "#------------------------------------------------------------------------------+\n",
    "#\n",
    "#   Nathan A. Rooy\n",
    "#   Simple Particle Swarm Optimization (PSO) with Python\n",
    "#   July, 2016\n",
    "#\n",
    "#------------------------------------------------------------------------------+\n",
    "\n",
    "#--- IMPORT DEPENDENCIES ------------------------------------------------------+\n",
    "\n",
    "from __future__ import division\n",
    "import random\n",
    "import math\n",
    "\n",
    "#--- COST FUNCTION ------------------------------------------------------------+\n",
    "\n",
    "# function we are attempting to optimize (minimize)\n",
    "def objective_function(x):\n",
    "    return np.sum(np.square(np.array(x)))\n",
    "\n",
    "#--- MAIN ---------------------------------------------------------------------+\n",
    "\n",
    "class Agent:\n",
    "    def __init__(self, x0, c1, c2):\n",
    "        self.position_history = [x0]\n",
    "        self.position_i = []          # particle position\n",
    "        self.velocity_i = []          # particle velocity\n",
    "        self.pos_best_i = []          # best position individual\n",
    "        self.err_best_i = -1          # best error individual\n",
    "        self.err_i = -1               # error individual\n",
    "        \n",
    "        self.num_dimensions = len(x0)\n",
    "        \n",
    "        self.c1 = c1        # cognative constant\n",
    "        self.c2 = c2        # social constant\n",
    "\n",
    "        for i in range(self.num_dimensions):\n",
    "            self.velocity_i.append(random.uniform(-1, 1))\n",
    "            self.position_i.append(x0[i])\n",
    "\n",
    "    # evaluate current fitness\n",
    "    def evaluate(self, costFunc):\n",
    "        self.err_i = costFunc(self.position_i)\n",
    "\n",
    "        # check to see if the current position is an individual best\n",
    "        if self.err_i < self.err_best_i or self.err_best_i==-1:\n",
    "            self.pos_best_i=self.position_i\n",
    "            self.err_best_i=self.err_i\n",
    "\n",
    "    # update new particle velocity\n",
    "    def update_velocity(self,pos_best_g):\n",
    "        w = 0.5       # constant inertia weight (how much to weigh the previous velocity)\n",
    "        \n",
    "        for dimension_i in range(self.num_dimensions):\n",
    "            r1 = random.random()\n",
    "            r2 = random.random()\n",
    "\n",
    "            vel_cognitive = self.c1 * r1 * (self.pos_best_i[dimension_i] - self.position_i[dimension_i])\n",
    "            vel_social = self.c2 * r2 * (pos_best_g[dimension_i] - self.position_i[dimension_i])\n",
    "            self.velocity_i[dimension_i] = w * self.velocity_i[dimension_i] + vel_cognitive + vel_social\n",
    "\n",
    "    # update the particle position based off new velocity updates\n",
    "    def update_position(self, bounds):\n",
    "        for dimension_i in range(self.num_dimensions):\n",
    "            self.position_i[dimension_i] = self.position_i[dimension_i] + self.velocity_i[dimension_i]\n",
    "\n",
    "            # adjust maximum position if necessary\n",
    "            if self.position_i[dimension_i] > bounds[dimension_i][1]:\n",
    "                self.position_i[dimension_i] = bounds[dimension_i][1]\n",
    "\n",
    "            # adjust minimum position if neseccary\n",
    "            if self.position_i[dimension_i] < bounds[dimension_i][0]:\n",
    "                self.position_i[dimension_i] = bounds[dimension_i][0]\n",
    "                \n",
    "        self.position_history.append(self.position_i)\n",
    "      \n",
    "    \n",
    "    \n",
    "class PSO():\n",
    "    def __init__(self, costFunc, bounds, num_agents, maxiter):\n",
    "\n",
    "        C1 = 0.1                            # cognative constant\n",
    "        C2 = 2                            # social constant\n",
    "        err_best_g = -1                   # best error for group\n",
    "        pos_best_g = []                   # best position for group\n",
    "    \n",
    "        \n",
    "        # establish the swarm\n",
    "        swarm = [Agent(random_initial_position(bounds), C1, C2) for i in range(num_agents)]\n",
    "                                 \n",
    "        # begin optimization loop\n",
    "        for i in range(maxiter):\n",
    "            # cycle through particles in swarm and evaluate fitness\n",
    "            for agent_i in swarm:\n",
    "                agent_i.evaluate(costFunc)\n",
    "                \n",
    "                # determine if current particle is the best (globally)\n",
    "                if agent_i.err_i < err_best_g or err_best_g == -1:\n",
    "                    pos_best_g = list(agent_i.position_i)\n",
    "                    err_best_g = float(agent_i.err_i)\n",
    "\n",
    "            # cycle through swarm and update velocities and position\n",
    "            for agent_i in swarm:\n",
    "                agent_i.update_velocity(pos_best_g)\n",
    "                agent_i.update_position(bounds)\n",
    "        \n",
    "        # cycle through swarm and get position histories\n",
    "        self.swarm_position_history = { \"agent_{}\".format(i) : agent_i.position_history for i, agent_i in enumerate(swarm) }\n",
    "\n",
    "        # print final results\n",
    "        print('GLOBAL -- Best Position: {}, Best Error: {}'.format(pos_best_g, err_best_g))\n",
    "\n",
    "random_initial_position = lambda boundaries : [np.random.uniform(boundaries[0][0], boundaries[0][1]), np.random.uniform(boundaries[0][0], boundaries[0][1])] \n",
    "\n",
    "def main():\n",
    "    #--- RUN ----------------------------------------------------------------------+\n",
    "    swarm_params = {\n",
    "        \"costFunc\"   : objective_function, \n",
    "        \"bounds\"     : [(-10,10), (-10,10)],  # input bounds [(x1_min,x1_max),(x2_min,x2_max)...] \n",
    "        \"num_agents\" : 15, \n",
    "        \"maxiter\"    : 50\n",
    "    }\n",
    "    \n",
    "    pso_swarm = PSO(**swarm_params)\n",
    "    \n",
    "    global history\n",
    "    history = pso_swarm.swarm_position_history\n",
    "    #--- END ----------------------------------------------------------------------+\n",
    "    \n",
    "    \n",
    "if __name__ == \"__main__\":\n",
    "    main()"
   ]
  },
  {
   "cell_type": "markdown",
   "metadata": {},
   "source": [
    "# Plot"
   ]
  },
  {
   "cell_type": "code",
   "execution_count": 91,
   "metadata": {},
   "outputs": [],
   "source": [
    "import matplotlib.pyplot as plt"
   ]
  },
  {
   "cell_type": "code",
   "execution_count": 92,
   "metadata": {},
   "outputs": [
    {
     "data": {
      "image/png": "[encoded data removed]",
      "text/plain": [
       "<matplotlib.figure.Figure at 0x1084fcd50>"
      ]
     },
     "metadata": {},
     "output_type": "display_data"
    }
   ],
   "source": [
    "for agent_id, agent_vals in history.items():\n",
    "    agent_vals = np.array(agent_vals)\n",
    "    plt.scatter(agent_vals[:,0], agent_vals[:,1], label=agent_id)\n",
    "plt.legend()\n",
    "plt.show()"
   ]
  },
  {
   "cell_type": "code",
   "execution_count": null,
   "metadata": {},
   "outputs": [],
   "source": []
  }
 ],
 "metadata": {
  "kernelspec": {
   "display_name": "Python 2",
   "language": "python",
   "name": "python2"
  },
  "language_info": {
   "codemirror_mode": {
    "name": "ipython",
    "version": 2
   },
   "file_extension": ".py",
   "mimetype": "text/x-python",
   "name": "python",
   "nbconvert_exporter": "python",
   "pygments_lexer": "ipython2",
   "version": "2.7.14"
  }
 },
 "nbformat": 4,
 "nbformat_minor": 2
}
